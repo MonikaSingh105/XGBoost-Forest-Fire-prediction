{
 "cells": [
  {
   "cell_type": "code",
   "execution_count": 1,
   "id": "b9518f27",
   "metadata": {},
   "outputs": [],
   "source": [
    "# Supress Warnings\n",
    "\n",
    "import warnings\n",
    "warnings.filterwarnings('ignore')"
   ]
  },
  {
   "cell_type": "code",
   "execution_count": 2,
   "id": "2d12a3df",
   "metadata": {},
   "outputs": [],
   "source": [
    "import numpy as np\n",
    "import pandas as pd"
   ]
  },
  {
   "cell_type": "code",
   "execution_count": 3,
   "id": "0eed8041",
   "metadata": {},
   "outputs": [],
   "source": [
    "df = pd.read_csv(\"modis_2021_India.csv\")"
   ]
  },
  {
   "cell_type": "code",
   "execution_count": 4,
   "id": "a2994abf",
   "metadata": {},
   "outputs": [
    {
     "data": {
      "text/html": [
       "<div>\n",
       "<style scoped>\n",
       "    .dataframe tbody tr th:only-of-type {\n",
       "        vertical-align: middle;\n",
       "    }\n",
       "\n",
       "    .dataframe tbody tr th {\n",
       "        vertical-align: top;\n",
       "    }\n",
       "\n",
       "    .dataframe thead th {\n",
       "        text-align: right;\n",
       "    }\n",
       "</style>\n",
       "<table border=\"1\" class=\"dataframe\">\n",
       "  <thead>\n",
       "    <tr style=\"text-align: right;\">\n",
       "      <th></th>\n",
       "      <th>latitude</th>\n",
       "      <th>longitude</th>\n",
       "      <th>brightness</th>\n",
       "      <th>scan</th>\n",
       "      <th>track</th>\n",
       "      <th>acq_date</th>\n",
       "      <th>acq_time</th>\n",
       "      <th>satellite</th>\n",
       "      <th>instrument</th>\n",
       "      <th>confidence</th>\n",
       "      <th>version</th>\n",
       "      <th>bright_t31</th>\n",
       "      <th>frp</th>\n",
       "      <th>daynight</th>\n",
       "      <th>type</th>\n",
       "    </tr>\n",
       "  </thead>\n",
       "  <tbody>\n",
       "    <tr>\n",
       "      <th>0</th>\n",
       "      <td>28.0993</td>\n",
       "      <td>96.9983</td>\n",
       "      <td>303.0</td>\n",
       "      <td>1.1</td>\n",
       "      <td>1.1</td>\n",
       "      <td>2021-01-01</td>\n",
       "      <td>409</td>\n",
       "      <td>Terra</td>\n",
       "      <td>MODIS</td>\n",
       "      <td>44</td>\n",
       "      <td>6.03</td>\n",
       "      <td>292.6</td>\n",
       "      <td>8.6</td>\n",
       "      <td>D</td>\n",
       "      <td>0</td>\n",
       "    </tr>\n",
       "    <tr>\n",
       "      <th>1</th>\n",
       "      <td>30.0420</td>\n",
       "      <td>79.6492</td>\n",
       "      <td>301.8</td>\n",
       "      <td>1.4</td>\n",
       "      <td>1.2</td>\n",
       "      <td>2021-01-01</td>\n",
       "      <td>547</td>\n",
       "      <td>Terra</td>\n",
       "      <td>MODIS</td>\n",
       "      <td>37</td>\n",
       "      <td>6.03</td>\n",
       "      <td>287.4</td>\n",
       "      <td>9.0</td>\n",
       "      <td>D</td>\n",
       "      <td>0</td>\n",
       "    </tr>\n",
       "    <tr>\n",
       "      <th>2</th>\n",
       "      <td>30.0879</td>\n",
       "      <td>78.8579</td>\n",
       "      <td>300.2</td>\n",
       "      <td>1.3</td>\n",
       "      <td>1.1</td>\n",
       "      <td>2021-01-01</td>\n",
       "      <td>547</td>\n",
       "      <td>Terra</td>\n",
       "      <td>MODIS</td>\n",
       "      <td>8</td>\n",
       "      <td>6.03</td>\n",
       "      <td>286.5</td>\n",
       "      <td>5.4</td>\n",
       "      <td>D</td>\n",
       "      <td>0</td>\n",
       "    </tr>\n",
       "    <tr>\n",
       "      <th>3</th>\n",
       "      <td>30.0408</td>\n",
       "      <td>80.0501</td>\n",
       "      <td>302.0</td>\n",
       "      <td>1.5</td>\n",
       "      <td>1.2</td>\n",
       "      <td>2021-01-01</td>\n",
       "      <td>547</td>\n",
       "      <td>Terra</td>\n",
       "      <td>MODIS</td>\n",
       "      <td>46</td>\n",
       "      <td>6.03</td>\n",
       "      <td>287.7</td>\n",
       "      <td>10.7</td>\n",
       "      <td>D</td>\n",
       "      <td>0</td>\n",
       "    </tr>\n",
       "    <tr>\n",
       "      <th>4</th>\n",
       "      <td>30.6565</td>\n",
       "      <td>78.9668</td>\n",
       "      <td>300.9</td>\n",
       "      <td>1.3</td>\n",
       "      <td>1.1</td>\n",
       "      <td>2021-01-01</td>\n",
       "      <td>547</td>\n",
       "      <td>Terra</td>\n",
       "      <td>MODIS</td>\n",
       "      <td>43</td>\n",
       "      <td>6.03</td>\n",
       "      <td>287.6</td>\n",
       "      <td>9.0</td>\n",
       "      <td>D</td>\n",
       "      <td>0</td>\n",
       "    </tr>\n",
       "  </tbody>\n",
       "</table>\n",
       "</div>"
      ],
      "text/plain": [
       "   latitude  longitude  brightness  scan  track    acq_date  acq_time  \\\n",
       "0   28.0993    96.9983       303.0   1.1    1.1  2021-01-01       409   \n",
       "1   30.0420    79.6492       301.8   1.4    1.2  2021-01-01       547   \n",
       "2   30.0879    78.8579       300.2   1.3    1.1  2021-01-01       547   \n",
       "3   30.0408    80.0501       302.0   1.5    1.2  2021-01-01       547   \n",
       "4   30.6565    78.9668       300.9   1.3    1.1  2021-01-01       547   \n",
       "\n",
       "  satellite instrument  confidence  version  bright_t31   frp daynight  type  \n",
       "0     Terra      MODIS          44     6.03       292.6   8.6        D     0  \n",
       "1     Terra      MODIS          37     6.03       287.4   9.0        D     0  \n",
       "2     Terra      MODIS           8     6.03       286.5   5.4        D     0  \n",
       "3     Terra      MODIS          46     6.03       287.7  10.7        D     0  \n",
       "4     Terra      MODIS          43     6.03       287.6   9.0        D     0  "
      ]
     },
     "execution_count": 4,
     "metadata": {},
     "output_type": "execute_result"
    }
   ],
   "source": [
    "df.head()"
   ]
  },
  {
   "cell_type": "code",
   "execution_count": 5,
   "id": "a4fe1a62",
   "metadata": {},
   "outputs": [
    {
     "data": {
      "text/html": [
       "<div>\n",
       "<style scoped>\n",
       "    .dataframe tbody tr th:only-of-type {\n",
       "        vertical-align: middle;\n",
       "    }\n",
       "\n",
       "    .dataframe tbody tr th {\n",
       "        vertical-align: top;\n",
       "    }\n",
       "\n",
       "    .dataframe thead th {\n",
       "        text-align: right;\n",
       "    }\n",
       "</style>\n",
       "<table border=\"1\" class=\"dataframe\">\n",
       "  <thead>\n",
       "    <tr style=\"text-align: right;\">\n",
       "      <th></th>\n",
       "      <th>latitude</th>\n",
       "      <th>longitude</th>\n",
       "      <th>brightness</th>\n",
       "      <th>scan</th>\n",
       "      <th>track</th>\n",
       "      <th>acq_date</th>\n",
       "      <th>acq_time</th>\n",
       "      <th>satellite</th>\n",
       "      <th>instrument</th>\n",
       "      <th>confidence</th>\n",
       "      <th>version</th>\n",
       "      <th>bright_t31</th>\n",
       "      <th>frp</th>\n",
       "      <th>daynight</th>\n",
       "      <th>type</th>\n",
       "    </tr>\n",
       "  </thead>\n",
       "  <tbody>\n",
       "    <tr>\n",
       "      <th>111262</th>\n",
       "      <td>21.1066</td>\n",
       "      <td>72.6336</td>\n",
       "      <td>307.9</td>\n",
       "      <td>1.5</td>\n",
       "      <td>1.2</td>\n",
       "      <td>2021-12-31</td>\n",
       "      <td>1703</td>\n",
       "      <td>Terra</td>\n",
       "      <td>MODIS</td>\n",
       "      <td>73</td>\n",
       "      <td>6.03</td>\n",
       "      <td>290.5</td>\n",
       "      <td>16.1</td>\n",
       "      <td>N</td>\n",
       "      <td>2</td>\n",
       "    </tr>\n",
       "    <tr>\n",
       "      <th>111263</th>\n",
       "      <td>19.1224</td>\n",
       "      <td>76.7451</td>\n",
       "      <td>303.2</td>\n",
       "      <td>1.0</td>\n",
       "      <td>1.0</td>\n",
       "      <td>2021-12-31</td>\n",
       "      <td>1703</td>\n",
       "      <td>Terra</td>\n",
       "      <td>MODIS</td>\n",
       "      <td>54</td>\n",
       "      <td>6.03</td>\n",
       "      <td>288.0</td>\n",
       "      <td>6.5</td>\n",
       "      <td>N</td>\n",
       "      <td>0</td>\n",
       "    </tr>\n",
       "    <tr>\n",
       "      <th>111264</th>\n",
       "      <td>19.2367</td>\n",
       "      <td>76.9620</td>\n",
       "      <td>304.1</td>\n",
       "      <td>1.0</td>\n",
       "      <td>1.0</td>\n",
       "      <td>2021-12-31</td>\n",
       "      <td>1703</td>\n",
       "      <td>Terra</td>\n",
       "      <td>MODIS</td>\n",
       "      <td>59</td>\n",
       "      <td>6.03</td>\n",
       "      <td>288.2</td>\n",
       "      <td>7.2</td>\n",
       "      <td>N</td>\n",
       "      <td>0</td>\n",
       "    </tr>\n",
       "    <tr>\n",
       "      <th>111265</th>\n",
       "      <td>23.7817</td>\n",
       "      <td>86.3960</td>\n",
       "      <td>306.2</td>\n",
       "      <td>1.2</td>\n",
       "      <td>1.1</td>\n",
       "      <td>2021-12-31</td>\n",
       "      <td>1954</td>\n",
       "      <td>Aqua</td>\n",
       "      <td>MODIS</td>\n",
       "      <td>65</td>\n",
       "      <td>6.03</td>\n",
       "      <td>287.8</td>\n",
       "      <td>10.8</td>\n",
       "      <td>N</td>\n",
       "      <td>2</td>\n",
       "    </tr>\n",
       "    <tr>\n",
       "      <th>111266</th>\n",
       "      <td>20.7973</td>\n",
       "      <td>85.2590</td>\n",
       "      <td>302.6</td>\n",
       "      <td>1.2</td>\n",
       "      <td>1.1</td>\n",
       "      <td>2021-12-31</td>\n",
       "      <td>1955</td>\n",
       "      <td>Aqua</td>\n",
       "      <td>MODIS</td>\n",
       "      <td>50</td>\n",
       "      <td>6.03</td>\n",
       "      <td>289.1</td>\n",
       "      <td>8.4</td>\n",
       "      <td>N</td>\n",
       "      <td>2</td>\n",
       "    </tr>\n",
       "  </tbody>\n",
       "</table>\n",
       "</div>"
      ],
      "text/plain": [
       "        latitude  longitude  brightness  scan  track    acq_date  acq_time  \\\n",
       "111262   21.1066    72.6336       307.9   1.5    1.2  2021-12-31      1703   \n",
       "111263   19.1224    76.7451       303.2   1.0    1.0  2021-12-31      1703   \n",
       "111264   19.2367    76.9620       304.1   1.0    1.0  2021-12-31      1703   \n",
       "111265   23.7817    86.3960       306.2   1.2    1.1  2021-12-31      1954   \n",
       "111266   20.7973    85.2590       302.6   1.2    1.1  2021-12-31      1955   \n",
       "\n",
       "       satellite instrument  confidence  version  bright_t31   frp daynight  \\\n",
       "111262     Terra      MODIS          73     6.03       290.5  16.1        N   \n",
       "111263     Terra      MODIS          54     6.03       288.0   6.5        N   \n",
       "111264     Terra      MODIS          59     6.03       288.2   7.2        N   \n",
       "111265      Aqua      MODIS          65     6.03       287.8  10.8        N   \n",
       "111266      Aqua      MODIS          50     6.03       289.1   8.4        N   \n",
       "\n",
       "        type  \n",
       "111262     2  \n",
       "111263     0  \n",
       "111264     0  \n",
       "111265     2  \n",
       "111266     2  "
      ]
     },
     "execution_count": 5,
     "metadata": {},
     "output_type": "execute_result"
    }
   ],
   "source": [
    "df.tail()"
   ]
  },
  {
   "cell_type": "code",
   "execution_count": 6,
   "id": "21a508d8",
   "metadata": {},
   "outputs": [
    {
     "name": "stdout",
     "output_type": "stream",
     "text": [
      "<class 'pandas.core.frame.DataFrame'>\n",
      "RangeIndex: 111267 entries, 0 to 111266\n",
      "Data columns (total 15 columns):\n",
      " #   Column      Non-Null Count   Dtype  \n",
      "---  ------      --------------   -----  \n",
      " 0   latitude    111267 non-null  float64\n",
      " 1   longitude   111267 non-null  float64\n",
      " 2   brightness  111267 non-null  float64\n",
      " 3   scan        111267 non-null  float64\n",
      " 4   track       111267 non-null  float64\n",
      " 5   acq_date    111267 non-null  object \n",
      " 6   acq_time    111267 non-null  int64  \n",
      " 7   satellite   111267 non-null  object \n",
      " 8   instrument  111267 non-null  object \n",
      " 9   confidence  111267 non-null  int64  \n",
      " 10  version     111267 non-null  float64\n",
      " 11  bright_t31  111267 non-null  float64\n",
      " 12  frp         111267 non-null  float64\n",
      " 13  daynight    111267 non-null  object \n",
      " 14  type        111267 non-null  int64  \n",
      "dtypes: float64(8), int64(3), object(4)\n",
      "memory usage: 12.7+ MB\n"
     ]
    }
   ],
   "source": [
    "df.info()"
   ]
  },
  {
   "cell_type": "code",
   "execution_count": 7,
   "id": "25afe71b",
   "metadata": {},
   "outputs": [
    {
     "data": {
      "text/html": [
       "<div>\n",
       "<style scoped>\n",
       "    .dataframe tbody tr th:only-of-type {\n",
       "        vertical-align: middle;\n",
       "    }\n",
       "\n",
       "    .dataframe tbody tr th {\n",
       "        vertical-align: top;\n",
       "    }\n",
       "\n",
       "    .dataframe thead th {\n",
       "        text-align: right;\n",
       "    }\n",
       "</style>\n",
       "<table border=\"1\" class=\"dataframe\">\n",
       "  <thead>\n",
       "    <tr style=\"text-align: right;\">\n",
       "      <th></th>\n",
       "      <th>latitude</th>\n",
       "      <th>longitude</th>\n",
       "      <th>brightness</th>\n",
       "      <th>scan</th>\n",
       "      <th>track</th>\n",
       "      <th>acq_time</th>\n",
       "      <th>confidence</th>\n",
       "      <th>version</th>\n",
       "      <th>bright_t31</th>\n",
       "      <th>frp</th>\n",
       "      <th>type</th>\n",
       "    </tr>\n",
       "  </thead>\n",
       "  <tbody>\n",
       "    <tr>\n",
       "      <th>count</th>\n",
       "      <td>111267.000000</td>\n",
       "      <td>111267.000000</td>\n",
       "      <td>111267.000000</td>\n",
       "      <td>111267.000000</td>\n",
       "      <td>111267.000000</td>\n",
       "      <td>111267.000000</td>\n",
       "      <td>111267.000000</td>\n",
       "      <td>1.112670e+05</td>\n",
       "      <td>111267.000000</td>\n",
       "      <td>111267.000000</td>\n",
       "      <td>111267.000000</td>\n",
       "    </tr>\n",
       "    <tr>\n",
       "      <th>mean</th>\n",
       "      <td>24.283092</td>\n",
       "      <td>81.403069</td>\n",
       "      <td>324.826080</td>\n",
       "      <td>1.423418</td>\n",
       "      <td>1.152912</td>\n",
       "      <td>814.960213</td>\n",
       "      <td>64.405170</td>\n",
       "      <td>6.030000e+00</td>\n",
       "      <td>304.247883</td>\n",
       "      <td>29.073369</td>\n",
       "      <td>0.077894</td>\n",
       "    </tr>\n",
       "    <tr>\n",
       "      <th>std</th>\n",
       "      <td>4.734092</td>\n",
       "      <td>6.564684</td>\n",
       "      <td>14.780342</td>\n",
       "      <td>0.638741</td>\n",
       "      <td>0.203361</td>\n",
       "      <td>342.842002</td>\n",
       "      <td>18.352227</td>\n",
       "      <td>1.660279e-11</td>\n",
       "      <td>8.439882</td>\n",
       "      <td>87.436113</td>\n",
       "      <td>0.387391</td>\n",
       "    </tr>\n",
       "    <tr>\n",
       "      <th>min</th>\n",
       "      <td>8.136200</td>\n",
       "      <td>68.529500</td>\n",
       "      <td>300.000000</td>\n",
       "      <td>1.000000</td>\n",
       "      <td>1.000000</td>\n",
       "      <td>334.000000</td>\n",
       "      <td>0.000000</td>\n",
       "      <td>6.030000e+00</td>\n",
       "      <td>267.200000</td>\n",
       "      <td>0.000000</td>\n",
       "      <td>0.000000</td>\n",
       "    </tr>\n",
       "    <tr>\n",
       "      <th>25%</th>\n",
       "      <td>21.291350</td>\n",
       "      <td>76.005350</td>\n",
       "      <td>315.400000</td>\n",
       "      <td>1.000000</td>\n",
       "      <td>1.000000</td>\n",
       "      <td>650.000000</td>\n",
       "      <td>54.000000</td>\n",
       "      <td>6.030000e+00</td>\n",
       "      <td>298.900000</td>\n",
       "      <td>9.100000</td>\n",
       "      <td>0.000000</td>\n",
       "    </tr>\n",
       "    <tr>\n",
       "      <th>50%</th>\n",
       "      <td>24.009000</td>\n",
       "      <td>79.450000</td>\n",
       "      <td>323.300000</td>\n",
       "      <td>1.200000</td>\n",
       "      <td>1.100000</td>\n",
       "      <td>751.000000</td>\n",
       "      <td>66.000000</td>\n",
       "      <td>6.030000e+00</td>\n",
       "      <td>303.000000</td>\n",
       "      <td>14.300000</td>\n",
       "      <td>0.000000</td>\n",
       "    </tr>\n",
       "    <tr>\n",
       "      <th>75%</th>\n",
       "      <td>29.099800</td>\n",
       "      <td>84.910100</td>\n",
       "      <td>331.600000</td>\n",
       "      <td>1.500000</td>\n",
       "      <td>1.200000</td>\n",
       "      <td>818.000000</td>\n",
       "      <td>76.000000</td>\n",
       "      <td>6.030000e+00</td>\n",
       "      <td>310.300000</td>\n",
       "      <td>25.950000</td>\n",
       "      <td>0.000000</td>\n",
       "    </tr>\n",
       "    <tr>\n",
       "      <th>max</th>\n",
       "      <td>34.499500</td>\n",
       "      <td>97.103300</td>\n",
       "      <td>505.700000</td>\n",
       "      <td>4.800000</td>\n",
       "      <td>2.000000</td>\n",
       "      <td>2132.000000</td>\n",
       "      <td>100.000000</td>\n",
       "      <td>6.030000e+00</td>\n",
       "      <td>400.100000</td>\n",
       "      <td>6961.800000</td>\n",
       "      <td>3.000000</td>\n",
       "    </tr>\n",
       "  </tbody>\n",
       "</table>\n",
       "</div>"
      ],
      "text/plain": [
       "            latitude      longitude     brightness           scan  \\\n",
       "count  111267.000000  111267.000000  111267.000000  111267.000000   \n",
       "mean       24.283092      81.403069     324.826080       1.423418   \n",
       "std         4.734092       6.564684      14.780342       0.638741   \n",
       "min         8.136200      68.529500     300.000000       1.000000   \n",
       "25%        21.291350      76.005350     315.400000       1.000000   \n",
       "50%        24.009000      79.450000     323.300000       1.200000   \n",
       "75%        29.099800      84.910100     331.600000       1.500000   \n",
       "max        34.499500      97.103300     505.700000       4.800000   \n",
       "\n",
       "               track       acq_time     confidence       version  \\\n",
       "count  111267.000000  111267.000000  111267.000000  1.112670e+05   \n",
       "mean        1.152912     814.960213      64.405170  6.030000e+00   \n",
       "std         0.203361     342.842002      18.352227  1.660279e-11   \n",
       "min         1.000000     334.000000       0.000000  6.030000e+00   \n",
       "25%         1.000000     650.000000      54.000000  6.030000e+00   \n",
       "50%         1.100000     751.000000      66.000000  6.030000e+00   \n",
       "75%         1.200000     818.000000      76.000000  6.030000e+00   \n",
       "max         2.000000    2132.000000     100.000000  6.030000e+00   \n",
       "\n",
       "          bright_t31            frp           type  \n",
       "count  111267.000000  111267.000000  111267.000000  \n",
       "mean      304.247883      29.073369       0.077894  \n",
       "std         8.439882      87.436113       0.387391  \n",
       "min       267.200000       0.000000       0.000000  \n",
       "25%       298.900000       9.100000       0.000000  \n",
       "50%       303.000000      14.300000       0.000000  \n",
       "75%       310.300000      25.950000       0.000000  \n",
       "max       400.100000    6961.800000       3.000000  "
      ]
     },
     "execution_count": 7,
     "metadata": {},
     "output_type": "execute_result"
    }
   ],
   "source": [
    "df.describe()"
   ]
  },
  {
   "cell_type": "code",
   "execution_count": 8,
   "id": "978de10b",
   "metadata": {},
   "outputs": [
    {
     "data": {
      "text/plain": [
       "Index(['latitude', 'longitude', 'brightness', 'scan', 'track', 'acq_date',\n",
       "       'acq_time', 'satellite', 'instrument', 'confidence', 'version',\n",
       "       'bright_t31', 'frp', 'daynight', 'type'],\n",
       "      dtype='object')"
      ]
     },
     "execution_count": 8,
     "metadata": {},
     "output_type": "execute_result"
    }
   ],
   "source": [
    "df.columns"
   ]
  },
  {
   "cell_type": "code",
   "execution_count": 9,
   "id": "9f307ed4",
   "metadata": {},
   "outputs": [
    {
     "data": {
      "text/plain": [
       "latitude      0\n",
       "longitude     0\n",
       "brightness    0\n",
       "scan          0\n",
       "track         0\n",
       "acq_date      0\n",
       "acq_time      0\n",
       "satellite     0\n",
       "instrument    0\n",
       "confidence    0\n",
       "version       0\n",
       "bright_t31    0\n",
       "frp           0\n",
       "daynight      0\n",
       "type          0\n",
       "dtype: int64"
      ]
     },
     "execution_count": 9,
     "metadata": {},
     "output_type": "execute_result"
    }
   ],
   "source": [
    "df.isnull().sum()"
   ]
  },
  {
   "cell_type": "code",
   "execution_count": 10,
   "id": "96f469ab",
   "metadata": {},
   "outputs": [
    {
     "name": "stdout",
     "output_type": "stream",
     "text": [
      "Aqua     78109\n",
      "Terra    33158\n",
      "Name: satellite, dtype: int64\n",
      "D    99966\n",
      "N    11301\n",
      "Name: daynight, dtype: int64\n",
      "0    106940\n",
      "2      4314\n",
      "3        13\n",
      "Name: type, dtype: int64\n"
     ]
    }
   ],
   "source": [
    "print(df['satellite'].value_counts())\n",
    "print(df['daynight'].value_counts())\n",
    "print(df['type'].value_counts())"
   ]
  },
  {
   "cell_type": "code",
   "execution_count": 11,
   "id": "66f4cdf5",
   "metadata": {},
   "outputs": [],
   "source": [
    "import matplotlib.pyplot as plt\n",
    "import seaborn as sns"
   ]
  },
  {
   "cell_type": "code",
   "execution_count": 12,
   "id": "524b9472",
   "metadata": {},
   "outputs": [],
   "source": [
    "df = df.drop(['track'], axis = 1)\n",
    "\n",
    "df = df.drop(['instrument', 'version'], axis = 1)"
   ]
  },
  {
   "cell_type": "code",
   "execution_count": 13,
   "id": "4fea6c49",
   "metadata": {},
   "outputs": [],
   "source": [
    "df['satellite'] = df['satellite'].map({'Terra':0,'Aqua':1})\n",
    "df['daynight'] = df['daynight'].map({'D':0,'N':1})\n",
    "df['month'] = df['acq_date'].apply(lambda x:int(x.split('-')[1]))\n",
    "df = df.sample(frac=0.2)\n",
    "df = df.reset_index().drop(\"index\", axis=1)"
   ]
  },
  {
   "cell_type": "code",
   "execution_count": 14,
   "id": "657b170c",
   "metadata": {},
   "outputs": [
    {
     "data": {
      "text/html": [
       "<div>\n",
       "<style scoped>\n",
       "    .dataframe tbody tr th:only-of-type {\n",
       "        vertical-align: middle;\n",
       "    }\n",
       "\n",
       "    .dataframe tbody tr th {\n",
       "        vertical-align: top;\n",
       "    }\n",
       "\n",
       "    .dataframe thead th {\n",
       "        text-align: right;\n",
       "    }\n",
       "</style>\n",
       "<table border=\"1\" class=\"dataframe\">\n",
       "  <thead>\n",
       "    <tr style=\"text-align: right;\">\n",
       "      <th></th>\n",
       "      <th>latitude</th>\n",
       "      <th>longitude</th>\n",
       "      <th>brightness</th>\n",
       "      <th>scan</th>\n",
       "      <th>acq_date</th>\n",
       "      <th>acq_time</th>\n",
       "      <th>satellite</th>\n",
       "      <th>confidence</th>\n",
       "      <th>bright_t31</th>\n",
       "      <th>frp</th>\n",
       "      <th>daynight</th>\n",
       "      <th>type</th>\n",
       "      <th>month</th>\n",
       "    </tr>\n",
       "  </thead>\n",
       "  <tbody>\n",
       "    <tr>\n",
       "      <th>0</th>\n",
       "      <td>26.0188</td>\n",
       "      <td>94.8418</td>\n",
       "      <td>328.3</td>\n",
       "      <td>1.1</td>\n",
       "      <td>2021-03-19</td>\n",
       "      <td>6</td>\n",
       "      <td>1</td>\n",
       "      <td>54</td>\n",
       "      <td>302.8</td>\n",
       "      <td>23.3</td>\n",
       "      <td>0</td>\n",
       "      <td>0</td>\n",
       "      <td>3</td>\n",
       "    </tr>\n",
       "    <tr>\n",
       "      <th>1</th>\n",
       "      <td>30.5998</td>\n",
       "      <td>74.6468</td>\n",
       "      <td>333.7</td>\n",
       "      <td>1.1</td>\n",
       "      <td>2021-11-07</td>\n",
       "      <td>8</td>\n",
       "      <td>1</td>\n",
       "      <td>85</td>\n",
       "      <td>300.1</td>\n",
       "      <td>28.3</td>\n",
       "      <td>0</td>\n",
       "      <td>0</td>\n",
       "      <td>11</td>\n",
       "    </tr>\n",
       "    <tr>\n",
       "      <th>2</th>\n",
       "      <td>30.0776</td>\n",
       "      <td>75.6273</td>\n",
       "      <td>321.7</td>\n",
       "      <td>1.0</td>\n",
       "      <td>2021-10-31</td>\n",
       "      <td>8</td>\n",
       "      <td>1</td>\n",
       "      <td>72</td>\n",
       "      <td>300.6</td>\n",
       "      <td>13.5</td>\n",
       "      <td>0</td>\n",
       "      <td>0</td>\n",
       "      <td>10</td>\n",
       "    </tr>\n",
       "    <tr>\n",
       "      <th>3</th>\n",
       "      <td>28.6147</td>\n",
       "      <td>76.4875</td>\n",
       "      <td>366.7</td>\n",
       "      <td>1.5</td>\n",
       "      <td>2021-04-26</td>\n",
       "      <td>7</td>\n",
       "      <td>1</td>\n",
       "      <td>100</td>\n",
       "      <td>320.4</td>\n",
       "      <td>146.7</td>\n",
       "      <td>0</td>\n",
       "      <td>0</td>\n",
       "      <td>4</td>\n",
       "    </tr>\n",
       "    <tr>\n",
       "      <th>4</th>\n",
       "      <td>21.4739</td>\n",
       "      <td>77.8829</td>\n",
       "      <td>327.6</td>\n",
       "      <td>2.6</td>\n",
       "      <td>2021-04-05</td>\n",
       "      <td>6</td>\n",
       "      <td>0</td>\n",
       "      <td>40</td>\n",
       "      <td>314.1</td>\n",
       "      <td>27.5</td>\n",
       "      <td>0</td>\n",
       "      <td>0</td>\n",
       "      <td>4</td>\n",
       "    </tr>\n",
       "  </tbody>\n",
       "</table>\n",
       "</div>"
      ],
      "text/plain": [
       "   latitude  longitude  brightness  scan    acq_date  acq_time  satellite  \\\n",
       "0   26.0188    94.8418       328.3   1.1  2021-03-19         6          1   \n",
       "1   30.5998    74.6468       333.7   1.1  2021-11-07         8          1   \n",
       "2   30.0776    75.6273       321.7   1.0  2021-10-31         8          1   \n",
       "3   28.6147    76.4875       366.7   1.5  2021-04-26         7          1   \n",
       "4   21.4739    77.8829       327.6   2.6  2021-04-05         6          0   \n",
       "\n",
       "   confidence  bright_t31    frp  daynight  type  month  \n",
       "0          54       302.8   23.3         0     0      3  \n",
       "1          85       300.1   28.3         0     0     11  \n",
       "2          72       300.6   13.5         0     0     10  \n",
       "3         100       320.4  146.7         0     0      4  \n",
       "4          40       314.1   27.5         0     0      4  "
      ]
     },
     "execution_count": 14,
     "metadata": {},
     "output_type": "execute_result"
    }
   ],
   "source": [
    "df['acq_time'] = df['acq_time']//100 \n",
    "df.head()"
   ]
  },
  {
   "cell_type": "code",
   "execution_count": 15,
   "id": "8507fb9f",
   "metadata": {},
   "outputs": [
    {
     "data": {
      "text/html": [
       "<div>\n",
       "<style scoped>\n",
       "    .dataframe tbody tr th:only-of-type {\n",
       "        vertical-align: middle;\n",
       "    }\n",
       "\n",
       "    .dataframe tbody tr th {\n",
       "        vertical-align: top;\n",
       "    }\n",
       "\n",
       "    .dataframe thead th {\n",
       "        text-align: right;\n",
       "    }\n",
       "</style>\n",
       "<table border=\"1\" class=\"dataframe\">\n",
       "  <thead>\n",
       "    <tr style=\"text-align: right;\">\n",
       "      <th></th>\n",
       "      <th>latitude</th>\n",
       "      <th>longitude</th>\n",
       "      <th>brightness</th>\n",
       "      <th>scan</th>\n",
       "      <th>acq_time</th>\n",
       "      <th>satellite</th>\n",
       "      <th>bright_t31</th>\n",
       "      <th>frp</th>\n",
       "      <th>daynight</th>\n",
       "      <th>type</th>\n",
       "      <th>month</th>\n",
       "    </tr>\n",
       "  </thead>\n",
       "  <tbody>\n",
       "    <tr>\n",
       "      <th>0</th>\n",
       "      <td>26.0188</td>\n",
       "      <td>94.8418</td>\n",
       "      <td>328.3</td>\n",
       "      <td>1.1</td>\n",
       "      <td>6</td>\n",
       "      <td>1</td>\n",
       "      <td>302.8</td>\n",
       "      <td>23.3</td>\n",
       "      <td>0</td>\n",
       "      <td>0</td>\n",
       "      <td>3</td>\n",
       "    </tr>\n",
       "    <tr>\n",
       "      <th>1</th>\n",
       "      <td>30.5998</td>\n",
       "      <td>74.6468</td>\n",
       "      <td>333.7</td>\n",
       "      <td>1.1</td>\n",
       "      <td>8</td>\n",
       "      <td>1</td>\n",
       "      <td>300.1</td>\n",
       "      <td>28.3</td>\n",
       "      <td>0</td>\n",
       "      <td>0</td>\n",
       "      <td>11</td>\n",
       "    </tr>\n",
       "    <tr>\n",
       "      <th>2</th>\n",
       "      <td>30.0776</td>\n",
       "      <td>75.6273</td>\n",
       "      <td>321.7</td>\n",
       "      <td>1.0</td>\n",
       "      <td>8</td>\n",
       "      <td>1</td>\n",
       "      <td>300.6</td>\n",
       "      <td>13.5</td>\n",
       "      <td>0</td>\n",
       "      <td>0</td>\n",
       "      <td>10</td>\n",
       "    </tr>\n",
       "    <tr>\n",
       "      <th>3</th>\n",
       "      <td>28.6147</td>\n",
       "      <td>76.4875</td>\n",
       "      <td>366.7</td>\n",
       "      <td>1.5</td>\n",
       "      <td>7</td>\n",
       "      <td>1</td>\n",
       "      <td>320.4</td>\n",
       "      <td>146.7</td>\n",
       "      <td>0</td>\n",
       "      <td>0</td>\n",
       "      <td>4</td>\n",
       "    </tr>\n",
       "    <tr>\n",
       "      <th>4</th>\n",
       "      <td>21.4739</td>\n",
       "      <td>77.8829</td>\n",
       "      <td>327.6</td>\n",
       "      <td>2.6</td>\n",
       "      <td>6</td>\n",
       "      <td>0</td>\n",
       "      <td>314.1</td>\n",
       "      <td>27.5</td>\n",
       "      <td>0</td>\n",
       "      <td>0</td>\n",
       "      <td>4</td>\n",
       "    </tr>\n",
       "  </tbody>\n",
       "</table>\n",
       "</div>"
      ],
      "text/plain": [
       "   latitude  longitude  brightness  scan  acq_time  satellite  bright_t31  \\\n",
       "0   26.0188    94.8418       328.3   1.1         6          1       302.8   \n",
       "1   30.5998    74.6468       333.7   1.1         8          1       300.1   \n",
       "2   30.0776    75.6273       321.7   1.0         8          1       300.6   \n",
       "3   28.6147    76.4875       366.7   1.5         7          1       320.4   \n",
       "4   21.4739    77.8829       327.6   2.6         6          0       314.1   \n",
       "\n",
       "     frp  daynight  type  month  \n",
       "0   23.3         0     0      3  \n",
       "1   28.3         0     0     11  \n",
       "2   13.5         0     0     10  \n",
       "3  146.7         0     0      4  \n",
       "4   27.5         0     0      4  "
      ]
     },
     "execution_count": 15,
     "metadata": {},
     "output_type": "execute_result"
    }
   ],
   "source": [
    "y = df['confidence']\n",
    "df = df.drop(['confidence', 'acq_date'], axis = 1)\n",
    "df.head()"
   ]
  },
  {
   "cell_type": "code",
   "execution_count": 16,
   "id": "461ab1cb",
   "metadata": {},
   "outputs": [
    {
     "data": {
      "text/plain": [
       "<Axes: >"
      ]
     },
     "execution_count": 16,
     "metadata": {},
     "output_type": "execute_result"
    },
    {
     "data": {
      "image/png": "[encoded data removed]",
      "text/plain": [
       "<Figure size 720x720 with 2 Axes>"
      ]
     },
     "metadata": {
      "needs_background": "light"
     },
     "output_type": "display_data"
    }
   ],
   "source": [
    "plt.figure(figsize=(10, 10))\n",
    "sns.heatmap(df.corr(),annot=True,cmap='viridis',linewidths=.5)"
   ]
  },
  {
   "cell_type": "code",
   "execution_count": 17,
   "id": "785685d1",
   "metadata": {},
   "outputs": [],
   "source": [
    "X = df[['latitude','longitude','month','brightness','scan','acq_time','bright_t31','daynight']]\n",
    "y = df['frp']\n",
    "from sklearn.model_selection import train_test_split\n",
    "X_train, X_test, y_train, y_test = train_test_split(X, y, test_size=0.3)"
   ]
  },
  {
   "cell_type": "code",
   "execution_count": 18,
   "id": "cf295597",
   "metadata": {},
   "outputs": [],
   "source": [
    "from sklearn.model_selection import StratifiedShuffleSplit\n",
    "target='type'\n",
    "\n",
    "feature_cols = [x for x in df.columns if x != target]\n",
    "\n",
    "strat_shuff_split = StratifiedShuffleSplit(n_splits=1, test_size=0.2, random_state=42)\n",
    "\n",
    "# Get the index values from the generator\n",
    "train_idx, test_idx = next(strat_shuff_split.split(df[feature_cols], df[target]))\n",
    "\n",
    "# Create the data sets\n",
    "X_train = df.loc[train_idx, feature_cols]\n",
    "y_train = df.loc[train_idx, target]\n",
    "X_test = df.loc[test_idx, feature_cols]\n",
    "y_test = df.loc[test_idx, target]"
   ]
  },
  {
   "cell_type": "code",
   "execution_count": 19,
   "id": "16a88ce7",
   "metadata": {},
   "outputs": [
    {
     "data": {
      "text/plain": [
       "<Axes: >"
      ]
     },
     "execution_count": 19,
     "metadata": {},
     "output_type": "execute_result"
    },
    {
     "data": {
      "image/png": "[encoded data removed]",
      "text/plain": [
       "<Figure size 1152x720 with 2 Axes>"
      ]
     },
     "metadata": {
      "needs_background": "light"
     },
     "output_type": "display_data"
    }
   ],
   "source": [
    "import seaborn as sns\n",
    "import matplotlib.pyplot as plt\n",
    "plt.figure(figsize=(16,10))\n",
    "cor=X_train.corr()\n",
    "sns.heatmap(cor,annot=True,cmap=plt.cm.CMRmap_r)"
   ]
  },
  {
   "cell_type": "code",
   "execution_count": 20,
   "id": "5f2306f8",
   "metadata": {},
   "outputs": [],
   "source": [
    "def correlation(dataset, threshold):\n",
    "        col_corr = set() # Set of all the names of correlated columns\n",
    "        corr_matrix = dataset.corr()\n",
    "        for i in range(len(corr_matrix.columns)):\n",
    "            for j in range(i):\n",
    "                if (corr_matrix.iloc[i,j])>threshold: # we are interested in absolute coeff value\n",
    "                    colname= corr_matrix.columns[i] # getting the name of column\n",
    "                    col_corr.add(colname) \n",
    "        return col_corr"
   ]
  },
  {
   "cell_type": "code",
   "execution_count": 21,
   "id": "e9346cd4",
   "metadata": {},
   "outputs": [
    {
     "name": "stdout",
     "output_type": "stream",
     "text": [
      "{'daynight'}\n"
     ]
    }
   ],
   "source": [
    "features= correlation(X_train,0.9)\n",
    "print(set(features))"
   ]
  },
  {
   "cell_type": "code",
   "execution_count": 22,
   "id": "a7a04a77",
   "metadata": {},
   "outputs": [],
   "source": [
    "X_train=X_train.drop(['daynight'],axis=1)\n",
    "X_test=X_test.drop(['daynight'],axis=1)"
   ]
  },
  {
   "cell_type": "code",
   "execution_count": 23,
   "id": "c22521fe",
   "metadata": {},
   "outputs": [],
   "source": [
    "from sklearn.linear_model import LogisticRegression\n",
    "lr = LogisticRegression(solver='liblinear', penalty='l2').fit(X_train, y_train)"
   ]
  },
  {
   "cell_type": "code",
   "execution_count": 24,
   "id": "1819df2b",
   "metadata": {},
   "outputs": [],
   "source": [
    "predictions=lr.predict(X_test)"
   ]
  },
  {
   "cell_type": "code",
   "execution_count": 25,
   "id": "d7ec5e03",
   "metadata": {},
   "outputs": [
    {
     "data": {
      "image/png": "[encoded data removed]",
      "text/plain": [
       "<Figure size 432x288 with 2 Axes>"
      ]
     },
     "metadata": {
      "needs_background": "light"
     },
     "output_type": "display_data"
    }
   ],
   "source": [
    "from sklearn.metrics import precision_recall_fscore_support as score\n",
    "from sklearn.metrics import confusion_matrix, accuracy_score, roc_auc_score\n",
    "sns.set_context('talk')\n",
    "cm = confusion_matrix(y_test, predictions)\n",
    "ax = sns.heatmap(cm, annot=True, fmt='d')\n"
   ]
  },
  {
   "cell_type": "code",
   "execution_count": 26,
   "id": "aff9aa7c",
   "metadata": {
    "scrolled": true
   },
   "outputs": [
    {
     "name": "stdout",
     "output_type": "stream",
     "text": [
      "              precision    recall  f1-score   support\n",
      "\n",
      "           0       0.96      1.00      0.98      4270\n",
      "           2       0.83      0.08      0.15       180\n",
      "           3       0.00      0.00      0.00         1\n",
      "\n",
      "    accuracy                           0.96      4451\n",
      "   macro avg       0.60      0.36      0.38      4451\n",
      "weighted avg       0.96      0.96      0.95      4451\n",
      "\n",
      "Accuracy score:  0.96\n"
     ]
    }
   ],
   "source": [
    "from sklearn.metrics import confusion_matrix, accuracy_score, classification_report, f1_score\n",
    "print(classification_report(y_test, predictions))\n",
    "print('Accuracy score: ', round(accuracy_score(y_test, predictions), 2))"
   ]
  },
  {
   "cell_type": "code",
   "execution_count": 27,
   "id": "6c149702",
   "metadata": {},
   "outputs": [],
   "source": [
    "from sklearn.ensemble import GradientBoostingClassifier "
   ]
  },
  {
   "cell_type": "code",
   "execution_count": 28,
   "id": "b42f1f67",
   "metadata": {},
   "outputs": [],
   "source": [
    "GBC =  GradientBoostingClassifier()"
   ]
  },
  {
   "cell_type": "code",
   "execution_count": 29,
   "id": "789cdcfe",
   "metadata": {},
   "outputs": [
    {
     "name": "stdout",
     "output_type": "stream",
     "text": [
      "{'ccp_alpha': 0.0, 'criterion': 'friedman_mse', 'init': None, 'learning_rate': 0.1, 'loss': 'log_loss', 'max_depth': 3, 'max_features': None, 'max_leaf_nodes': None, 'min_impurity_decrease': 0.0, 'min_samples_leaf': 1, 'min_samples_split': 2, 'min_weight_fraction_leaf': 0.0, 'n_estimators': 100, 'n_iter_no_change': None, 'random_state': None, 'subsample': 1.0, 'tol': 0.0001, 'validation_fraction': 0.1, 'verbose': 0, 'warm_start': False}\n"
     ]
    }
   ],
   "source": [
    "print(GBC.get_params())"
   ]
  },
  {
   "cell_type": "code",
   "execution_count": 30,
   "id": "f7561a27",
   "metadata": {},
   "outputs": [],
   "source": [
    "grid_param = {'max_depth': range(5,7)\n",
    "              ,'subsample':[1,2],\n",
    "              'n_estimators':[67,89],\n",
    "              'loss':['log_loss'],\n",
    "              'learning_rate':[0.1,0.5],\n",
    "              'n_iter_no_change': range(20,40),\n",
    "              'verbose': [0]\n",
    "              \n",
    "}"
   ]
  },
  {
   "cell_type": "code",
   "execution_count": 31,
   "id": "3c0cae43",
   "metadata": {},
   "outputs": [],
   "source": [
    "from sklearn.model_selection import GridSearchCV , KFold\n",
    "GBC_grid_search = GridSearchCV(estimator= GBC,\n",
    "                     param_grid=grid_param,\n",
    "                     cv= KFold(n_splits=6, random_state=1, shuffle= True ),\n",
    "                    n_jobs =-1)"
   ]
  },
  {
   "cell_type": "code",
   "execution_count": 32,
   "id": "12c82bae",
   "metadata": {},
   "outputs": [
    {
     "data": {
      "text/html": [
       "<style>#sk-container-id-1 {color: black;background-color: white;}#sk-container-id-1 pre{padding: 0;}#sk-container-id-1 div.sk-toggleable {background-color: white;}#sk-container-id-1 label.sk-toggleable__label {cursor: pointer;display: block;width: 100%;margin-bottom: 0;padding: 0.3em;box-sizing: border-box;text-align: center;}#sk-container-id-1 label.sk-toggleable__label-arrow:before {content: \"▸\";float: left;margin-right: 0.25em;color: #696969;}#sk-container-id-1 label.sk-toggleable__label-arrow:hover:before {color: black;}#sk-container-id-1 div.sk-estimator:hover label.sk-toggleable__label-arrow:before {color: black;}#sk-container-id-1 div.sk-toggleable__content {max-height: 0;max-width: 0;overflow: hidden;text-align: left;background-color: #f0f8ff;}#sk-container-id-1 div.sk-toggleable__content pre {margin: 0.2em;color: black;border-radius: 0.25em;background-color: #f0f8ff;}#sk-container-id-1 input.sk-toggleable__control:checked~div.sk-toggleable__content {max-height: 200px;max-width: 100%;overflow: auto;}#sk-container-id-1 input.sk-toggleable__control:checked~label.sk-toggleable__label-arrow:before {content: \"▾\";}#sk-container-id-1 div.sk-estimator input.sk-toggleable__control:checked~label.sk-toggleable__label {background-color: #d4ebff;}#sk-container-id-1 div.sk-label input.sk-toggleable__control:checked~label.sk-toggleable__label {background-color: #d4ebff;}#sk-container-id-1 input.sk-hidden--visually {border: 0;clip: rect(1px 1px 1px 1px);clip: rect(1px, 1px, 1px, 1px);height: 1px;margin: -1px;overflow: hidden;padding: 0;position: absolute;width: 1px;}#sk-container-id-1 div.sk-estimator {font-family: monospace;background-color: #f0f8ff;border: 1px dotted black;border-radius: 0.25em;box-sizing: border-box;margin-bottom: 0.5em;}#sk-container-id-1 div.sk-estimator:hover {background-color: #d4ebff;}#sk-container-id-1 div.sk-parallel-item::after {content: \"\";width: 100%;border-bottom: 1px solid gray;flex-grow: 1;}#sk-container-id-1 div.sk-label:hover label.sk-toggleable__label {background-color: #d4ebff;}#sk-container-id-1 div.sk-serial::before {content: \"\";position: absolute;border-left: 1px solid gray;box-sizing: border-box;top: 0;bottom: 0;left: 50%;z-index: 0;}#sk-container-id-1 div.sk-serial {display: flex;flex-direction: column;align-items: center;background-color: white;padding-right: 0.2em;padding-left: 0.2em;position: relative;}#sk-container-id-1 div.sk-item {position: relative;z-index: 1;}#sk-container-id-1 div.sk-parallel {display: flex;align-items: stretch;justify-content: center;background-color: white;position: relative;}#sk-container-id-1 div.sk-item::before, #sk-container-id-1 div.sk-parallel-item::before {content: \"\";position: absolute;border-left: 1px solid gray;box-sizing: border-box;top: 0;bottom: 0;left: 50%;z-index: -1;}#sk-container-id-1 div.sk-parallel-item {display: flex;flex-direction: column;z-index: 1;position: relative;background-color: white;}#sk-container-id-1 div.sk-parallel-item:first-child::after {align-self: flex-end;width: 50%;}#sk-container-id-1 div.sk-parallel-item:last-child::after {align-self: flex-start;width: 50%;}#sk-container-id-1 div.sk-parallel-item:only-child::after {width: 0;}#sk-container-id-1 div.sk-dashed-wrapped {border: 1px dashed gray;margin: 0 0.4em 0.5em 0.4em;box-sizing: border-box;padding-bottom: 0.4em;background-color: white;}#sk-container-id-1 div.sk-label label {font-family: monospace;font-weight: bold;display: inline-block;line-height: 1.2em;}#sk-container-id-1 div.sk-label-container {text-align: center;}#sk-container-id-1 div.sk-container {/* jupyter's `normalize.less` sets `[hidden] { display: none; }` but bootstrap.min.css set `[hidden] { display: none !important; }` so we also need the `!important` here to be able to override the default hidden behavior on the sphinx rendered scikit-learn.org. See: https://github.com/scikit-learn/scikit-learn/issues/21755 */display: inline-block !important;position: relative;}#sk-container-id-1 div.sk-text-repr-fallback {display: none;}</style><div id=\"sk-container-id-1\" class=\"sk-top-container\"><div class=\"sk-text-repr-fallback\"><pre>GridSearchCV(cv=KFold(n_splits=6, random_state=1, shuffle=True),\n",
       "             estimator=GradientBoostingClassifier(), n_jobs=-1,\n",
       "             param_grid={&#x27;learning_rate&#x27;: [0.1, 0.5], &#x27;loss&#x27;: [&#x27;log_loss&#x27;],\n",
       "                         &#x27;max_depth&#x27;: range(5, 7), &#x27;n_estimators&#x27;: [67, 89],\n",
       "                         &#x27;n_iter_no_change&#x27;: range(20, 40), &#x27;subsample&#x27;: [1, 2],\n",
       "                         &#x27;verbose&#x27;: [0]})</pre><b>In a Jupyter environment, please rerun this cell to show the HTML representation or trust the notebook. <br />On GitHub, the HTML representation is unable to render, please try loading this page with nbviewer.org.</b></div><div class=\"sk-container\" hidden><div class=\"sk-item sk-dashed-wrapped\"><div class=\"sk-label-container\"><div class=\"sk-label sk-toggleable\"><input class=\"sk-toggleable__control sk-hidden--visually\" id=\"sk-estimator-id-1\" type=\"checkbox\" ><label for=\"sk-estimator-id-1\" class=\"sk-toggleable__label sk-toggleable__label-arrow\">GridSearchCV</label><div class=\"sk-toggleable__content\"><pre>GridSearchCV(cv=KFold(n_splits=6, random_state=1, shuffle=True),\n",
       "             estimator=GradientBoostingClassifier(), n_jobs=-1,\n",
       "             param_grid={&#x27;learning_rate&#x27;: [0.1, 0.5], &#x27;loss&#x27;: [&#x27;log_loss&#x27;],\n",
       "                         &#x27;max_depth&#x27;: range(5, 7), &#x27;n_estimators&#x27;: [67, 89],\n",
       "                         &#x27;n_iter_no_change&#x27;: range(20, 40), &#x27;subsample&#x27;: [1, 2],\n",
       "                         &#x27;verbose&#x27;: [0]})</pre></div></div></div><div class=\"sk-parallel\"><div class=\"sk-parallel-item\"><div class=\"sk-item\"><div class=\"sk-label-container\"><div class=\"sk-label sk-toggleable\"><input class=\"sk-toggleable__control sk-hidden--visually\" id=\"sk-estimator-id-2\" type=\"checkbox\" ><label for=\"sk-estimator-id-2\" class=\"sk-toggleable__label sk-toggleable__label-arrow\">estimator: GradientBoostingClassifier</label><div class=\"sk-toggleable__content\"><pre>GradientBoostingClassifier()</pre></div></div></div><div class=\"sk-serial\"><div class=\"sk-item\"><div class=\"sk-estimator sk-toggleable\"><input class=\"sk-toggleable__control sk-hidden--visually\" id=\"sk-estimator-id-3\" type=\"checkbox\" ><label for=\"sk-estimator-id-3\" class=\"sk-toggleable__label sk-toggleable__label-arrow\">GradientBoostingClassifier</label><div class=\"sk-toggleable__content\"><pre>GradientBoostingClassifier()</pre></div></div></div></div></div></div></div></div></div></div>"
      ],
      "text/plain": [
       "GridSearchCV(cv=KFold(n_splits=6, random_state=1, shuffle=True),\n",
       "             estimator=GradientBoostingClassifier(), n_jobs=-1,\n",
       "             param_grid={'learning_rate': [0.1, 0.5], 'loss': ['log_loss'],\n",
       "                         'max_depth': range(5, 7), 'n_estimators': [67, 89],\n",
       "                         'n_iter_no_change': range(20, 40), 'subsample': [1, 2],\n",
       "                         'verbose': [0]})"
      ]
     },
     "execution_count": 32,
     "metadata": {},
     "output_type": "execute_result"
    }
   ],
   "source": [
    "GBC_grid_search.fit(X_train, y_train)"
   ]
  },
  {
   "cell_type": "code",
   "execution_count": 33,
   "id": "2562ec6d",
   "metadata": {},
   "outputs": [],
   "source": [
    "predictions=GBC_grid_search.predict(X_test)"
   ]
  },
  {
   "cell_type": "code",
   "execution_count": 34,
   "id": "8d8cedf2",
   "metadata": {},
   "outputs": [
    {
     "data": {
      "image/png": "[encoded data removed]",
      "text/plain": [
       "<Figure size 432x288 with 2 Axes>"
      ]
     },
     "metadata": {
      "needs_background": "light"
     },
     "output_type": "display_data"
    }
   ],
   "source": [
    "from sklearn.metrics import precision_recall_fscore_support as score\n",
    "from sklearn.metrics import confusion_matrix, accuracy_score, roc_auc_score\n",
    "sns.set_context('talk')\n",
    "cm = confusion_matrix(y_test, predictions)\n",
    "ax = sns.heatmap(cm, annot=True, fmt='d')\n"
   ]
  },
  {
   "cell_type": "code",
   "execution_count": 35,
   "id": "b5e97d6e",
   "metadata": {},
   "outputs": [
    {
     "name": "stdout",
     "output_type": "stream",
     "text": [
      "              precision    recall  f1-score   support\n",
      "\n",
      "           0       0.98      1.00      0.99      4270\n",
      "           2       0.88      0.63      0.74       180\n",
      "           3       0.00      0.00      0.00         1\n",
      "\n",
      "    accuracy                           0.98      4451\n",
      "   macro avg       0.62      0.54      0.58      4451\n",
      "weighted avg       0.98      0.98      0.98      4451\n",
      "\n",
      "Accuracy score:  0.98\n"
     ]
    }
   ],
   "source": [
    "from sklearn.metrics import confusion_matrix, accuracy_score, classification_report, f1_score\n",
    "print(classification_report(y_test, predictions))\n",
    "print('Accuracy score: ', round(accuracy_score(y_test, predictions), 2))"
   ]
  },
  {
   "cell_type": "code",
   "execution_count": null,
   "id": "caf34623",
   "metadata": {},
   "outputs": [],
   "source": []
  }
 ],
 "metadata": {
  "kernelspec": {
   "display_name": "Python 3 (ipykernel)",
   "language": "python",
   "name": "python3"
  },
  "language_info": {
   "codemirror_mode": {
    "name": "ipython",
    "version": 3
   },
   "file_extension": ".py",
   "mimetype": "text/x-python",
   "name": "python",
   "nbconvert_exporter": "python",
   "pygments_lexer": "ipython3",
   "version": "3.9.12"
  }
 },
 "nbformat": 4,
 "nbformat_minor": 5
}
